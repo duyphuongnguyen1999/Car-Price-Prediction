{
  "nbformat": 4,
  "nbformat_minor": 0,
  "metadata": {
    "colab": {
      "provenance": [],
      "toc_visible": true
    },
    "kernelspec": {
      "name": "python3",
      "display_name": "Python 3"
    },
    "language_info": {
      "name": "python"
    }
  },
  "cells": [
    {
      "cell_type": "markdown",
      "source": [
        "# Data Processing Module"
      ],
      "metadata": {
        "id": "f7yhaNAZYbnc"
      }
    },
    {
      "cell_type": "markdown",
      "source": [
        "## 0. Downloading Dataset"
      ],
      "metadata": {
        "id": "4bIzKRZnYgVT"
      }
    },
    {
      "cell_type": "markdown",
      "source": [
        "In this project, we use `Vietnamese car price` dataset, which contains information of 30.7k used car on a Vietnamese online market at the beginning of 2023"
      ],
      "metadata": {
        "id": "uXyCYWzxYrOa"
      }
    },
    {
      "cell_type": "code",
      "source": [
        "# Download Dataset using gdown\n",
        "# https://drive.google.com/file/d/1uhhpMRqBVTTG5AYdddhYjvj26lVYnExL/view?usp=sharing\n",
        "!pip install gdown==4.6.0 -q\n",
        "!gdown 1uhhpMRqBVTTG5AYdddhYjvj26lVYnExL"
      ],
      "metadata": {
        "colab": {
          "base_uri": "https://localhost:8080/"
        },
        "id": "1fNZtfYVYbVN",
        "outputId": "1a20e71c-9697-43b6-8539-a46a44ad631d"
      },
      "execution_count": 39,
      "outputs": [
        {
          "output_type": "stream",
          "name": "stdout",
          "text": [
            "Downloading...\n",
            "From: https://drive.google.com/uc?id=1uhhpMRqBVTTG5AYdddhYjvj26lVYnExL\n",
            "To: /content/vietnamese_car_price.zip\n",
            "\r  0% 0.00/12.2M [00:00<?, ?B/s]\r 17% 2.10M/12.2M [00:00<00:00, 20.7MB/s]\r100% 12.2M/12.2M [00:00<00:00, 76.1MB/s]\n"
          ]
        }
      ]
    },
    {
      "cell_type": "code",
      "execution_count": null,
      "metadata": {
        "id": "udne68myYA2P"
      },
      "outputs": [],
      "source": [
        "# Unzip dataset\n",
        "!unzip -qq -a vietnamese_car_price.zip"
      ]
    },
    {
      "cell_type": "markdown",
      "source": [
        "## 1. Import Libraries"
      ],
      "metadata": {
        "id": "wQyI2cXDbfxL"
      }
    },
    {
      "cell_type": "code",
      "source": [
        "# Import necessary libraries\n",
        "import numpy as np # Import NumPy for numerical computations and data manipulation\n",
        "\n",
        "import pandas as pd  # Import Pandas for data manipulation and analysis\n",
        "pd.set_option('display.max_rows', 1000) # Set Pandas options to display a maximum of 1000 rows\n",
        "\n",
        "import re # Import re for working with text and regular expressions\n",
        "\n",
        "# Import warnings to ignore error\n",
        "import warnings\n",
        "warnings.filterwarnings(\"ignore\")"
      ],
      "metadata": {
        "id": "67-KpEbKc5Ij"
      },
      "execution_count": 61,
      "outputs": []
    },
    {
      "cell_type": "markdown",
      "source": [
        "## 2. Loading Dataset"
      ],
      "metadata": {
        "id": "aMKUsX65d6UM"
      }
    },
    {
      "cell_type": "code",
      "source": [
        "# Loading dataset\n",
        "car_details = pd.read_csv('car_detail_en.csv')\n",
        "# Rename columns\n",
        "car_details.rename(columns={'price. price': 'price'}, inplace=True)\n",
        "\n",
        "# Check for dupication\n",
        "item0 = car_details.shape[0]  # Stores the initial number of rows in the DataFrame\n",
        "car_details = car_details.drop_duplicates()  # Removes duplicate rows from the DataFrame\n",
        "item1 = car_details.shape[0]  # Stores the number of rows after removing duplicates\n",
        "print(f\"There are {item0-item1} duplicates found in the dataset\")  # Prints the number of duplicates that were removed"
      ],
      "metadata": {
        "colab": {
          "base_uri": "https://localhost:8080/"
        },
        "id": "7diDZ8OZc6zE",
        "outputId": "487a32c2-6fc9-4057-e417-1144e93e7464"
      },
      "execution_count": 89,
      "outputs": [
        {
          "output_type": "stream",
          "name": "stdout",
          "text": [
            "There are 0 duplicates found in the dataset\n"
          ]
        }
      ]
    },
    {
      "cell_type": "markdown",
      "source": [
        "## 3. Data Preprocessing"
      ],
      "metadata": {
        "id": "IBn6KI9ufghE"
      }
    },
    {
      "cell_type": "markdown",
      "source": [
        "### Convert `price` to numerical"
      ],
      "metadata": {
        "id": "VI3Wu_gXlMm7"
      }
    },
    {
      "cell_type": "code",
      "source": [
        "# Before processing\n",
        "car_details[\"price\"].head()"
      ],
      "metadata": {
        "colab": {
          "base_uri": "https://localhost:8080/"
        },
        "id": "w65RMNVql0zL",
        "outputId": "b466b130-9c23-4f3e-f2fb-63a2cc97ca40"
      },
      "execution_count": 90,
      "outputs": [
        {
          "output_type": "execute_result",
          "data": {
            "text/plain": [
              "0              249 Million\n",
              "1    4 Billion 286 Million\n",
              "2              885 Million\n",
              "3              754 Million\n",
              "4              850 Million\n",
              "Name: price, dtype: object"
            ]
          },
          "metadata": {},
          "execution_count": 90
        }
      ]
    },
    {
      "cell_type": "code",
      "source": [
        " # Function to convert price to numerical\n",
        "def price_to_numeric(price):\n",
        "    try:\n",
        "        if \"Billion\" in price and not \"Million\" in price:\n",
        "            return float(price.replace(\"Billion\", \"\").replace(\" \", \"\"))*1000\n",
        "        elif \"Million\" in price and not \"Billion\" in price:\n",
        "            return float(price.replace(\"Million\", \"\").replace(\" \", \"\"))\n",
        "        else:\n",
        "            return float(price.replace(\"Billion\", \"\").replace(\"Million\", \"\").replace(\" \", \"\"))\n",
        "    except:\n",
        "        return None\n",
        "\n",
        "# Convert price to numerical\n",
        "car_details['price'] = car_details['price'].apply(price_to_numeric) # Convert price to numerical\n",
        "car_details['log10_price'] = np.log10(car_details['price']) # Standardization\n",
        "car_details = car_details[~car_details['price'].isnull()] # Drop missing data"
      ],
      "metadata": {
        "id": "tDO2YXT1lpHl"
      },
      "execution_count": 91,
      "outputs": []
    },
    {
      "cell_type": "code",
      "source": [
        "# After Processing\n",
        "car_details[\"price\"].head()"
      ],
      "metadata": {
        "colab": {
          "base_uri": "https://localhost:8080/"
        },
        "id": "UWS3PELnmoW7",
        "outputId": "b119cd37-264f-4be7-939b-bc3eec214a10"
      },
      "execution_count": 92,
      "outputs": [
        {
          "output_type": "execute_result",
          "data": {
            "text/plain": [
              "0     249.0\n",
              "1    4286.0\n",
              "2     885.0\n",
              "3     754.0\n",
              "4     850.0\n",
              "Name: price, dtype: float64"
            ]
          },
          "metadata": {},
          "execution_count": 92
        }
      ]
    },
    {
      "cell_type": "markdown",
      "source": [
        "### Convert `mileage` to numerical"
      ],
      "metadata": {
        "id": "D3DIx-K3mwfd"
      }
    },
    {
      "cell_type": "code",
      "source": [
        "# Before Processing\n",
        "car_details[\"mileage\"].head()"
      ],
      "metadata": {
        "colab": {
          "base_uri": "https://localhost:8080/"
        },
        "id": "3NPKJtGIm5dr",
        "outputId": "acb3cb61-b8a3-4325-f4e7-8c52c84d04e5"
      },
      "execution_count": 93,
      "outputs": [
        {
          "output_type": "execute_result",
          "data": {
            "text/plain": [
              "0    0 Km\n",
              "1    0 Km\n",
              "2    0 Km\n",
              "3    0 Km\n",
              "4    0 Km\n",
              "Name: mileage, dtype: object"
            ]
          },
          "metadata": {},
          "execution_count": 93
        }
      ]
    },
    {
      "cell_type": "code",
      "source": [
        "# Function to convert mileage to numerical\n",
        "def mileage_to_numeric(mileage):\n",
        "    try:\n",
        "        return float(mileage.rstrip(' Km').replace(\" \", '').replace(',',''))\n",
        "    except:\n",
        "        return None\n",
        "\n",
        "# Convert mileage to numerical\n",
        "car_details['mileage'] = car_details['mileage'].apply(mileage_to_numeric) # Convert mileage to numerical\n",
        "car_details['log10_mileage'] = np.log10(car_details['mileage']+1) # Standardization (+1 to avoid Zero Devision Error)"
      ],
      "metadata": {
        "id": "VsG_4GFBm5Ty"
      },
      "execution_count": 94,
      "outputs": []
    },
    {
      "cell_type": "code",
      "source": [
        "# After Processing\n",
        "car_details[\"mileage\"].head()"
      ],
      "metadata": {
        "colab": {
          "base_uri": "https://localhost:8080/"
        },
        "id": "YLzL8dOQnGeR",
        "outputId": "8bcfd9f3-af52-4c77-b892-b85a90ff207b"
      },
      "execution_count": 95,
      "outputs": [
        {
          "output_type": "execute_result",
          "data": {
            "text/plain": [
              "0    0.0\n",
              "1    0.0\n",
              "2    0.0\n",
              "3    0.0\n",
              "4    0.0\n",
              "Name: mileage, dtype: float64"
            ]
          },
          "metadata": {},
          "execution_count": 95
        }
      ]
    },
    {
      "cell_type": "markdown",
      "source": [
        "### Get `fuel_consumption`"
      ],
      "metadata": {
        "id": "778ccsHinNk7"
      }
    },
    {
      "cell_type": "code",
      "source": [
        "# Before Processing\n",
        "car_details[\"fuel_consumption\"].head()"
      ],
      "metadata": {
        "colab": {
          "base_uri": "https://localhost:8080/"
        },
        "id": "0Gmc2SQvnNIC",
        "outputId": "59daf43d-d54b-4633-f0ef-18eccea960ff"
      },
      "execution_count": 96,
      "outputs": [
        {
          "output_type": "execute_result",
          "data": {
            "text/plain": [
              "0        L/100Km\n",
              "1    10\\tL/100Km\n",
              "2        L/100Km\n",
              "3        L/100Km\n",
              "4        L/100Km\n",
              "Name: fuel_consumption, dtype: object"
            ]
          },
          "metadata": {},
          "execution_count": 96
        }
      ]
    },
    {
      "cell_type": "code",
      "source": [
        "# Define a function to get fuel consumptions\n",
        "def get_fuel_consumption(fuel_consumption):\n",
        "    result = str(fuel_consumption).replace(\"L/100Km\", \"\").rstrip(\"\\t\").replace(',','').strip() # Remove non-numeric charater\n",
        "    pattern = r'[A-Za-z]'\n",
        "    result = re.sub(pattern,'', result)  # Remove non-numeric charaters\n",
        "    if result:\n",
        "        return float(result)\n",
        "    else:\n",
        "        return 'None'\n",
        "\n",
        "# Get fuel consumptions\n",
        "car_details['fuel_consumption'] = car_details['fuel_consumption'].apply(get_fuel_consumption)"
      ],
      "metadata": {
        "id": "xR58x4sRncFT"
      },
      "execution_count": 97,
      "outputs": []
    },
    {
      "cell_type": "code",
      "source": [
        "# Before Processing\n",
        "car_details[\"fuel_consumption\"].head()"
      ],
      "metadata": {
        "colab": {
          "base_uri": "https://localhost:8080/"
        },
        "id": "gRmWuKMNnlgb",
        "outputId": "327fe309-7da4-4cb8-8b7a-56741f78b64f"
      },
      "execution_count": 98,
      "outputs": [
        {
          "output_type": "execute_result",
          "data": {
            "text/plain": [
              "0    None\n",
              "1    10.0\n",
              "2    None\n",
              "3    None\n",
              "4    None\n",
              "Name: fuel_consumption, dtype: object"
            ]
          },
          "metadata": {},
          "execution_count": 98
        }
      ]
    },
    {
      "cell_type": "markdown",
      "source": [
        "### Get `engine` information"
      ],
      "metadata": {
        "id": "ciq45OHLnx6q"
      }
    },
    {
      "cell_type": "code",
      "source": [
        "# Before Processing\n",
        "car_details[\"engine\"].head()"
      ],
      "metadata": {
        "colab": {
          "base_uri": "https://localhost:8080/"
        },
        "id": "YlVTU9nLn7D8",
        "outputId": "161ce272-16e6-436c-876b-870aef685442"
      },
      "execution_count": 99,
      "outputs": [
        {
          "output_type": "execute_result",
          "data": {
            "text/plain": [
              "0    Petrol\\t1.0 L\n",
              "1    Petrol\\t3.4 L\n",
              "2    Petrol\\t2.0 L\n",
              "3    Petrol\\t1.8 L\n",
              "4    Petrol\\t2.0 L\n",
              "Name: engine, dtype: object"
            ]
          },
          "metadata": {},
          "execution_count": 99
        }
      ]
    },
    {
      "cell_type": "code",
      "source": [
        "# Get fuel-type\n",
        "car_details['fuel_type'] = car_details['engine'].apply(lambda engine: str(engine).split('\\t')[0])\n",
        "\n",
        "# Get engine size\n",
        "def get_engine_type(engine):\n",
        "    result = str(engine).split('\\t')[-1]\n",
        "    if \"L\" in result:\n",
        "        return result\n",
        "    else:\n",
        "        return 'None'\n",
        "\n",
        "car_details['engine_size'] = car_details['engine'].apply(get_engine_type)"
      ],
      "metadata": {
        "id": "YjW9r6Q2n_Zk"
      },
      "execution_count": 100,
      "outputs": []
    },
    {
      "cell_type": "code",
      "source": [
        "# After Processing\n",
        "car_details[[\"engine\", \"fuel_type\", \"engine_size\"]].head()"
      ],
      "metadata": {
        "colab": {
          "base_uri": "https://localhost:8080/",
          "height": 206
        },
        "id": "zqYtwCJNoQmz",
        "outputId": "18c20f3d-4579-4877-b4a6-5573ed43b5fa"
      },
      "execution_count": 101,
      "outputs": [
        {
          "output_type": "execute_result",
          "data": {
            "text/plain": [
              "          engine fuel_type engine_size\n",
              "0  Petrol\\t1.0 L    Petrol       1.0 L\n",
              "1  Petrol\\t3.4 L    Petrol       3.4 L\n",
              "2  Petrol\\t2.0 L    Petrol       2.0 L\n",
              "3  Petrol\\t1.8 L    Petrol       1.8 L\n",
              "4  Petrol\\t2.0 L    Petrol       2.0 L"
            ],
            "text/html": [
              "\n",
              "  <div id=\"df-456cc159-de43-4845-aff3-c5c909639c66\" class=\"colab-df-container\">\n",
              "    <div>\n",
              "<style scoped>\n",
              "    .dataframe tbody tr th:only-of-type {\n",
              "        vertical-align: middle;\n",
              "    }\n",
              "\n",
              "    .dataframe tbody tr th {\n",
              "        vertical-align: top;\n",
              "    }\n",
              "\n",
              "    .dataframe thead th {\n",
              "        text-align: right;\n",
              "    }\n",
              "</style>\n",
              "<table border=\"1\" class=\"dataframe\">\n",
              "  <thead>\n",
              "    <tr style=\"text-align: right;\">\n",
              "      <th></th>\n",
              "      <th>engine</th>\n",
              "      <th>fuel_type</th>\n",
              "      <th>engine_size</th>\n",
              "    </tr>\n",
              "  </thead>\n",
              "  <tbody>\n",
              "    <tr>\n",
              "      <th>0</th>\n",
              "      <td>Petrol\\t1.0 L</td>\n",
              "      <td>Petrol</td>\n",
              "      <td>1.0 L</td>\n",
              "    </tr>\n",
              "    <tr>\n",
              "      <th>1</th>\n",
              "      <td>Petrol\\t3.4 L</td>\n",
              "      <td>Petrol</td>\n",
              "      <td>3.4 L</td>\n",
              "    </tr>\n",
              "    <tr>\n",
              "      <th>2</th>\n",
              "      <td>Petrol\\t2.0 L</td>\n",
              "      <td>Petrol</td>\n",
              "      <td>2.0 L</td>\n",
              "    </tr>\n",
              "    <tr>\n",
              "      <th>3</th>\n",
              "      <td>Petrol\\t1.8 L</td>\n",
              "      <td>Petrol</td>\n",
              "      <td>1.8 L</td>\n",
              "    </tr>\n",
              "    <tr>\n",
              "      <th>4</th>\n",
              "      <td>Petrol\\t2.0 L</td>\n",
              "      <td>Petrol</td>\n",
              "      <td>2.0 L</td>\n",
              "    </tr>\n",
              "  </tbody>\n",
              "</table>\n",
              "</div>\n",
              "    <div class=\"colab-df-buttons\">\n",
              "\n",
              "  <div class=\"colab-df-container\">\n",
              "    <button class=\"colab-df-convert\" onclick=\"convertToInteractive('df-456cc159-de43-4845-aff3-c5c909639c66')\"\n",
              "            title=\"Convert this dataframe to an interactive table.\"\n",
              "            style=\"display:none;\">\n",
              "\n",
              "  <svg xmlns=\"http://www.w3.org/2000/svg\" height=\"24px\" viewBox=\"0 -960 960 960\">\n",
              "    <path d=\"M120-120v-720h720v720H120Zm60-500h600v-160H180v160Zm220 220h160v-160H400v160Zm0 220h160v-160H400v160ZM180-400h160v-160H180v160Zm440 0h160v-160H620v160ZM180-180h160v-160H180v160Zm440 0h160v-160H620v160Z\"/>\n",
              "  </svg>\n",
              "    </button>\n",
              "\n",
              "  <style>\n",
              "    .colab-df-container {\n",
              "      display:flex;\n",
              "      gap: 12px;\n",
              "    }\n",
              "\n",
              "    .colab-df-convert {\n",
              "      background-color: #E8F0FE;\n",
              "      border: none;\n",
              "      border-radius: 50%;\n",
              "      cursor: pointer;\n",
              "      display: none;\n",
              "      fill: #1967D2;\n",
              "      height: 32px;\n",
              "      padding: 0 0 0 0;\n",
              "      width: 32px;\n",
              "    }\n",
              "\n",
              "    .colab-df-convert:hover {\n",
              "      background-color: #E2EBFA;\n",
              "      box-shadow: 0px 1px 2px rgba(60, 64, 67, 0.3), 0px 1px 3px 1px rgba(60, 64, 67, 0.15);\n",
              "      fill: #174EA6;\n",
              "    }\n",
              "\n",
              "    .colab-df-buttons div {\n",
              "      margin-bottom: 4px;\n",
              "    }\n",
              "\n",
              "    [theme=dark] .colab-df-convert {\n",
              "      background-color: #3B4455;\n",
              "      fill: #D2E3FC;\n",
              "    }\n",
              "\n",
              "    [theme=dark] .colab-df-convert:hover {\n",
              "      background-color: #434B5C;\n",
              "      box-shadow: 0px 1px 3px 1px rgba(0, 0, 0, 0.15);\n",
              "      filter: drop-shadow(0px 1px 2px rgba(0, 0, 0, 0.3));\n",
              "      fill: #FFFFFF;\n",
              "    }\n",
              "  </style>\n",
              "\n",
              "    <script>\n",
              "      const buttonEl =\n",
              "        document.querySelector('#df-456cc159-de43-4845-aff3-c5c909639c66 button.colab-df-convert');\n",
              "      buttonEl.style.display =\n",
              "        google.colab.kernel.accessAllowed ? 'block' : 'none';\n",
              "\n",
              "      async function convertToInteractive(key) {\n",
              "        const element = document.querySelector('#df-456cc159-de43-4845-aff3-c5c909639c66');\n",
              "        const dataTable =\n",
              "          await google.colab.kernel.invokeFunction('convertToInteractive',\n",
              "                                                    [key], {});\n",
              "        if (!dataTable) return;\n",
              "\n",
              "        const docLinkHtml = 'Like what you see? Visit the ' +\n",
              "          '<a target=\"_blank\" href=https://colab.research.google.com/notebooks/data_table.ipynb>data table notebook</a>'\n",
              "          + ' to learn more about interactive tables.';\n",
              "        element.innerHTML = '';\n",
              "        dataTable['output_type'] = 'display_data';\n",
              "        await google.colab.output.renderOutput(dataTable, element);\n",
              "        const docLink = document.createElement('div');\n",
              "        docLink.innerHTML = docLinkHtml;\n",
              "        element.appendChild(docLink);\n",
              "      }\n",
              "    </script>\n",
              "  </div>\n",
              "\n",
              "\n",
              "<div id=\"df-9a1f041e-d799-450c-ba3e-401e0df8ff15\">\n",
              "  <button class=\"colab-df-quickchart\" onclick=\"quickchart('df-9a1f041e-d799-450c-ba3e-401e0df8ff15')\"\n",
              "            title=\"Suggest charts\"\n",
              "            style=\"display:none;\">\n",
              "\n",
              "<svg xmlns=\"http://www.w3.org/2000/svg\" height=\"24px\"viewBox=\"0 0 24 24\"\n",
              "     width=\"24px\">\n",
              "    <g>\n",
              "        <path d=\"M19 3H5c-1.1 0-2 .9-2 2v14c0 1.1.9 2 2 2h14c1.1 0 2-.9 2-2V5c0-1.1-.9-2-2-2zM9 17H7v-7h2v7zm4 0h-2V7h2v10zm4 0h-2v-4h2v4z\"/>\n",
              "    </g>\n",
              "</svg>\n",
              "  </button>\n",
              "\n",
              "<style>\n",
              "  .colab-df-quickchart {\n",
              "      --bg-color: #E8F0FE;\n",
              "      --fill-color: #1967D2;\n",
              "      --hover-bg-color: #E2EBFA;\n",
              "      --hover-fill-color: #174EA6;\n",
              "      --disabled-fill-color: #AAA;\n",
              "      --disabled-bg-color: #DDD;\n",
              "  }\n",
              "\n",
              "  [theme=dark] .colab-df-quickchart {\n",
              "      --bg-color: #3B4455;\n",
              "      --fill-color: #D2E3FC;\n",
              "      --hover-bg-color: #434B5C;\n",
              "      --hover-fill-color: #FFFFFF;\n",
              "      --disabled-bg-color: #3B4455;\n",
              "      --disabled-fill-color: #666;\n",
              "  }\n",
              "\n",
              "  .colab-df-quickchart {\n",
              "    background-color: var(--bg-color);\n",
              "    border: none;\n",
              "    border-radius: 50%;\n",
              "    cursor: pointer;\n",
              "    display: none;\n",
              "    fill: var(--fill-color);\n",
              "    height: 32px;\n",
              "    padding: 0;\n",
              "    width: 32px;\n",
              "  }\n",
              "\n",
              "  .colab-df-quickchart:hover {\n",
              "    background-color: var(--hover-bg-color);\n",
              "    box-shadow: 0 1px 2px rgba(60, 64, 67, 0.3), 0 1px 3px 1px rgba(60, 64, 67, 0.15);\n",
              "    fill: var(--button-hover-fill-color);\n",
              "  }\n",
              "\n",
              "  .colab-df-quickchart-complete:disabled,\n",
              "  .colab-df-quickchart-complete:disabled:hover {\n",
              "    background-color: var(--disabled-bg-color);\n",
              "    fill: var(--disabled-fill-color);\n",
              "    box-shadow: none;\n",
              "  }\n",
              "\n",
              "  .colab-df-spinner {\n",
              "    border: 2px solid var(--fill-color);\n",
              "    border-color: transparent;\n",
              "    border-bottom-color: var(--fill-color);\n",
              "    animation:\n",
              "      spin 1s steps(1) infinite;\n",
              "  }\n",
              "\n",
              "  @keyframes spin {\n",
              "    0% {\n",
              "      border-color: transparent;\n",
              "      border-bottom-color: var(--fill-color);\n",
              "      border-left-color: var(--fill-color);\n",
              "    }\n",
              "    20% {\n",
              "      border-color: transparent;\n",
              "      border-left-color: var(--fill-color);\n",
              "      border-top-color: var(--fill-color);\n",
              "    }\n",
              "    30% {\n",
              "      border-color: transparent;\n",
              "      border-left-color: var(--fill-color);\n",
              "      border-top-color: var(--fill-color);\n",
              "      border-right-color: var(--fill-color);\n",
              "    }\n",
              "    40% {\n",
              "      border-color: transparent;\n",
              "      border-right-color: var(--fill-color);\n",
              "      border-top-color: var(--fill-color);\n",
              "    }\n",
              "    60% {\n",
              "      border-color: transparent;\n",
              "      border-right-color: var(--fill-color);\n",
              "    }\n",
              "    80% {\n",
              "      border-color: transparent;\n",
              "      border-right-color: var(--fill-color);\n",
              "      border-bottom-color: var(--fill-color);\n",
              "    }\n",
              "    90% {\n",
              "      border-color: transparent;\n",
              "      border-bottom-color: var(--fill-color);\n",
              "    }\n",
              "  }\n",
              "</style>\n",
              "\n",
              "  <script>\n",
              "    async function quickchart(key) {\n",
              "      const quickchartButtonEl =\n",
              "        document.querySelector('#' + key + ' button');\n",
              "      quickchartButtonEl.disabled = true;  // To prevent multiple clicks.\n",
              "      quickchartButtonEl.classList.add('colab-df-spinner');\n",
              "      try {\n",
              "        const charts = await google.colab.kernel.invokeFunction(\n",
              "            'suggestCharts', [key], {});\n",
              "      } catch (error) {\n",
              "        console.error('Error during call to suggestCharts:', error);\n",
              "      }\n",
              "      quickchartButtonEl.classList.remove('colab-df-spinner');\n",
              "      quickchartButtonEl.classList.add('colab-df-quickchart-complete');\n",
              "    }\n",
              "    (() => {\n",
              "      let quickchartButtonEl =\n",
              "        document.querySelector('#df-9a1f041e-d799-450c-ba3e-401e0df8ff15 button');\n",
              "      quickchartButtonEl.style.display =\n",
              "        google.colab.kernel.accessAllowed ? 'block' : 'none';\n",
              "    })();\n",
              "  </script>\n",
              "</div>\n",
              "\n",
              "    </div>\n",
              "  </div>\n"
            ],
            "application/vnd.google.colaboratory.intrinsic+json": {
              "type": "dataframe",
              "summary": "{\n  \"name\": \"car_details[[\\\"engine\\\", \\\"fuel_type\\\", \\\"engine_size\\\"]]\",\n  \"rows\": 5,\n  \"fields\": [\n    {\n      \"column\": \"engine\",\n      \"properties\": {\n        \"dtype\": \"string\",\n        \"num_unique_values\": 4,\n        \"samples\": [\n          \"Petrol\\t3.4 L\",\n          \"Petrol\\t1.8 L\",\n          \"Petrol\\t1.0 L\"\n        ],\n        \"semantic_type\": \"\",\n        \"description\": \"\"\n      }\n    },\n    {\n      \"column\": \"fuel_type\",\n      \"properties\": {\n        \"dtype\": \"category\",\n        \"num_unique_values\": 1,\n        \"samples\": [\n          \"Petrol\"\n        ],\n        \"semantic_type\": \"\",\n        \"description\": \"\"\n      }\n    },\n    {\n      \"column\": \"engine_size\",\n      \"properties\": {\n        \"dtype\": \"string\",\n        \"num_unique_values\": 4,\n        \"samples\": [\n          \"3.4 L\"\n        ],\n        \"semantic_type\": \"\",\n        \"description\": \"\"\n      }\n    }\n  ]\n}"
            }
          },
          "metadata": {},
          "execution_count": 101
        }
      ]
    },
    {
      "cell_type": "markdown",
      "source": [
        "### Combine `brand` and `grade`"
      ],
      "metadata": {
        "id": "y9uTAVAGokIV"
      }
    },
    {
      "cell_type": "code",
      "source": [
        "# Before Processing\n",
        "car_details[[\"brand\", \"grade\"]].head()"
      ],
      "metadata": {
        "colab": {
          "base_uri": "https://localhost:8080/",
          "height": 206
        },
        "id": "UPCNKxZhoxKT",
        "outputId": "1da6c08d-e4b8-406f-83bf-8fca52274d0d"
      },
      "execution_count": 102,
      "outputs": [
        {
          "output_type": "execute_result",
          "data": {
            "text/plain": [
              "    brand              grade\n",
              "0  Suzuki  Super Carry Truck\n",
              "1  Toyota       Land Cruiser\n",
              "2  Toyota             Innova\n",
              "3  Toyota      Corolla Cross\n",
              "4  Toyota             Innova"
            ],
            "text/html": [
              "\n",
              "  <div id=\"df-3ae4661f-9fa4-4df4-9a6a-ad22f74c7907\" class=\"colab-df-container\">\n",
              "    <div>\n",
              "<style scoped>\n",
              "    .dataframe tbody tr th:only-of-type {\n",
              "        vertical-align: middle;\n",
              "    }\n",
              "\n",
              "    .dataframe tbody tr th {\n",
              "        vertical-align: top;\n",
              "    }\n",
              "\n",
              "    .dataframe thead th {\n",
              "        text-align: right;\n",
              "    }\n",
              "</style>\n",
              "<table border=\"1\" class=\"dataframe\">\n",
              "  <thead>\n",
              "    <tr style=\"text-align: right;\">\n",
              "      <th></th>\n",
              "      <th>brand</th>\n",
              "      <th>grade</th>\n",
              "    </tr>\n",
              "  </thead>\n",
              "  <tbody>\n",
              "    <tr>\n",
              "      <th>0</th>\n",
              "      <td>Suzuki</td>\n",
              "      <td>Super Carry Truck</td>\n",
              "    </tr>\n",
              "    <tr>\n",
              "      <th>1</th>\n",
              "      <td>Toyota</td>\n",
              "      <td>Land Cruiser</td>\n",
              "    </tr>\n",
              "    <tr>\n",
              "      <th>2</th>\n",
              "      <td>Toyota</td>\n",
              "      <td>Innova</td>\n",
              "    </tr>\n",
              "    <tr>\n",
              "      <th>3</th>\n",
              "      <td>Toyota</td>\n",
              "      <td>Corolla Cross</td>\n",
              "    </tr>\n",
              "    <tr>\n",
              "      <th>4</th>\n",
              "      <td>Toyota</td>\n",
              "      <td>Innova</td>\n",
              "    </tr>\n",
              "  </tbody>\n",
              "</table>\n",
              "</div>\n",
              "    <div class=\"colab-df-buttons\">\n",
              "\n",
              "  <div class=\"colab-df-container\">\n",
              "    <button class=\"colab-df-convert\" onclick=\"convertToInteractive('df-3ae4661f-9fa4-4df4-9a6a-ad22f74c7907')\"\n",
              "            title=\"Convert this dataframe to an interactive table.\"\n",
              "            style=\"display:none;\">\n",
              "\n",
              "  <svg xmlns=\"http://www.w3.org/2000/svg\" height=\"24px\" viewBox=\"0 -960 960 960\">\n",
              "    <path d=\"M120-120v-720h720v720H120Zm60-500h600v-160H180v160Zm220 220h160v-160H400v160Zm0 220h160v-160H400v160ZM180-400h160v-160H180v160Zm440 0h160v-160H620v160ZM180-180h160v-160H180v160Zm440 0h160v-160H620v160Z\"/>\n",
              "  </svg>\n",
              "    </button>\n",
              "\n",
              "  <style>\n",
              "    .colab-df-container {\n",
              "      display:flex;\n",
              "      gap: 12px;\n",
              "    }\n",
              "\n",
              "    .colab-df-convert {\n",
              "      background-color: #E8F0FE;\n",
              "      border: none;\n",
              "      border-radius: 50%;\n",
              "      cursor: pointer;\n",
              "      display: none;\n",
              "      fill: #1967D2;\n",
              "      height: 32px;\n",
              "      padding: 0 0 0 0;\n",
              "      width: 32px;\n",
              "    }\n",
              "\n",
              "    .colab-df-convert:hover {\n",
              "      background-color: #E2EBFA;\n",
              "      box-shadow: 0px 1px 2px rgba(60, 64, 67, 0.3), 0px 1px 3px 1px rgba(60, 64, 67, 0.15);\n",
              "      fill: #174EA6;\n",
              "    }\n",
              "\n",
              "    .colab-df-buttons div {\n",
              "      margin-bottom: 4px;\n",
              "    }\n",
              "\n",
              "    [theme=dark] .colab-df-convert {\n",
              "      background-color: #3B4455;\n",
              "      fill: #D2E3FC;\n",
              "    }\n",
              "\n",
              "    [theme=dark] .colab-df-convert:hover {\n",
              "      background-color: #434B5C;\n",
              "      box-shadow: 0px 1px 3px 1px rgba(0, 0, 0, 0.15);\n",
              "      filter: drop-shadow(0px 1px 2px rgba(0, 0, 0, 0.3));\n",
              "      fill: #FFFFFF;\n",
              "    }\n",
              "  </style>\n",
              "\n",
              "    <script>\n",
              "      const buttonEl =\n",
              "        document.querySelector('#df-3ae4661f-9fa4-4df4-9a6a-ad22f74c7907 button.colab-df-convert');\n",
              "      buttonEl.style.display =\n",
              "        google.colab.kernel.accessAllowed ? 'block' : 'none';\n",
              "\n",
              "      async function convertToInteractive(key) {\n",
              "        const element = document.querySelector('#df-3ae4661f-9fa4-4df4-9a6a-ad22f74c7907');\n",
              "        const dataTable =\n",
              "          await google.colab.kernel.invokeFunction('convertToInteractive',\n",
              "                                                    [key], {});\n",
              "        if (!dataTable) return;\n",
              "\n",
              "        const docLinkHtml = 'Like what you see? Visit the ' +\n",
              "          '<a target=\"_blank\" href=https://colab.research.google.com/notebooks/data_table.ipynb>data table notebook</a>'\n",
              "          + ' to learn more about interactive tables.';\n",
              "        element.innerHTML = '';\n",
              "        dataTable['output_type'] = 'display_data';\n",
              "        await google.colab.output.renderOutput(dataTable, element);\n",
              "        const docLink = document.createElement('div');\n",
              "        docLink.innerHTML = docLinkHtml;\n",
              "        element.appendChild(docLink);\n",
              "      }\n",
              "    </script>\n",
              "  </div>\n",
              "\n",
              "\n",
              "<div id=\"df-358fb117-8375-4943-b4c1-b4dbc5c0023a\">\n",
              "  <button class=\"colab-df-quickchart\" onclick=\"quickchart('df-358fb117-8375-4943-b4c1-b4dbc5c0023a')\"\n",
              "            title=\"Suggest charts\"\n",
              "            style=\"display:none;\">\n",
              "\n",
              "<svg xmlns=\"http://www.w3.org/2000/svg\" height=\"24px\"viewBox=\"0 0 24 24\"\n",
              "     width=\"24px\">\n",
              "    <g>\n",
              "        <path d=\"M19 3H5c-1.1 0-2 .9-2 2v14c0 1.1.9 2 2 2h14c1.1 0 2-.9 2-2V5c0-1.1-.9-2-2-2zM9 17H7v-7h2v7zm4 0h-2V7h2v10zm4 0h-2v-4h2v4z\"/>\n",
              "    </g>\n",
              "</svg>\n",
              "  </button>\n",
              "\n",
              "<style>\n",
              "  .colab-df-quickchart {\n",
              "      --bg-color: #E8F0FE;\n",
              "      --fill-color: #1967D2;\n",
              "      --hover-bg-color: #E2EBFA;\n",
              "      --hover-fill-color: #174EA6;\n",
              "      --disabled-fill-color: #AAA;\n",
              "      --disabled-bg-color: #DDD;\n",
              "  }\n",
              "\n",
              "  [theme=dark] .colab-df-quickchart {\n",
              "      --bg-color: #3B4455;\n",
              "      --fill-color: #D2E3FC;\n",
              "      --hover-bg-color: #434B5C;\n",
              "      --hover-fill-color: #FFFFFF;\n",
              "      --disabled-bg-color: #3B4455;\n",
              "      --disabled-fill-color: #666;\n",
              "  }\n",
              "\n",
              "  .colab-df-quickchart {\n",
              "    background-color: var(--bg-color);\n",
              "    border: none;\n",
              "    border-radius: 50%;\n",
              "    cursor: pointer;\n",
              "    display: none;\n",
              "    fill: var(--fill-color);\n",
              "    height: 32px;\n",
              "    padding: 0;\n",
              "    width: 32px;\n",
              "  }\n",
              "\n",
              "  .colab-df-quickchart:hover {\n",
              "    background-color: var(--hover-bg-color);\n",
              "    box-shadow: 0 1px 2px rgba(60, 64, 67, 0.3), 0 1px 3px 1px rgba(60, 64, 67, 0.15);\n",
              "    fill: var(--button-hover-fill-color);\n",
              "  }\n",
              "\n",
              "  .colab-df-quickchart-complete:disabled,\n",
              "  .colab-df-quickchart-complete:disabled:hover {\n",
              "    background-color: var(--disabled-bg-color);\n",
              "    fill: var(--disabled-fill-color);\n",
              "    box-shadow: none;\n",
              "  }\n",
              "\n",
              "  .colab-df-spinner {\n",
              "    border: 2px solid var(--fill-color);\n",
              "    border-color: transparent;\n",
              "    border-bottom-color: var(--fill-color);\n",
              "    animation:\n",
              "      spin 1s steps(1) infinite;\n",
              "  }\n",
              "\n",
              "  @keyframes spin {\n",
              "    0% {\n",
              "      border-color: transparent;\n",
              "      border-bottom-color: var(--fill-color);\n",
              "      border-left-color: var(--fill-color);\n",
              "    }\n",
              "    20% {\n",
              "      border-color: transparent;\n",
              "      border-left-color: var(--fill-color);\n",
              "      border-top-color: var(--fill-color);\n",
              "    }\n",
              "    30% {\n",
              "      border-color: transparent;\n",
              "      border-left-color: var(--fill-color);\n",
              "      border-top-color: var(--fill-color);\n",
              "      border-right-color: var(--fill-color);\n",
              "    }\n",
              "    40% {\n",
              "      border-color: transparent;\n",
              "      border-right-color: var(--fill-color);\n",
              "      border-top-color: var(--fill-color);\n",
              "    }\n",
              "    60% {\n",
              "      border-color: transparent;\n",
              "      border-right-color: var(--fill-color);\n",
              "    }\n",
              "    80% {\n",
              "      border-color: transparent;\n",
              "      border-right-color: var(--fill-color);\n",
              "      border-bottom-color: var(--fill-color);\n",
              "    }\n",
              "    90% {\n",
              "      border-color: transparent;\n",
              "      border-bottom-color: var(--fill-color);\n",
              "    }\n",
              "  }\n",
              "</style>\n",
              "\n",
              "  <script>\n",
              "    async function quickchart(key) {\n",
              "      const quickchartButtonEl =\n",
              "        document.querySelector('#' + key + ' button');\n",
              "      quickchartButtonEl.disabled = true;  // To prevent multiple clicks.\n",
              "      quickchartButtonEl.classList.add('colab-df-spinner');\n",
              "      try {\n",
              "        const charts = await google.colab.kernel.invokeFunction(\n",
              "            'suggestCharts', [key], {});\n",
              "      } catch (error) {\n",
              "        console.error('Error during call to suggestCharts:', error);\n",
              "      }\n",
              "      quickchartButtonEl.classList.remove('colab-df-spinner');\n",
              "      quickchartButtonEl.classList.add('colab-df-quickchart-complete');\n",
              "    }\n",
              "    (() => {\n",
              "      let quickchartButtonEl =\n",
              "        document.querySelector('#df-358fb117-8375-4943-b4c1-b4dbc5c0023a button');\n",
              "      quickchartButtonEl.style.display =\n",
              "        google.colab.kernel.accessAllowed ? 'block' : 'none';\n",
              "    })();\n",
              "  </script>\n",
              "</div>\n",
              "\n",
              "    </div>\n",
              "  </div>\n"
            ],
            "application/vnd.google.colaboratory.intrinsic+json": {
              "type": "dataframe",
              "summary": "{\n  \"name\": \"car_details[[\\\"brand\\\", \\\"grade\\\"]]\",\n  \"rows\": 5,\n  \"fields\": [\n    {\n      \"column\": \"brand\",\n      \"properties\": {\n        \"dtype\": \"category\",\n        \"num_unique_values\": 2,\n        \"samples\": [\n          \"Toyota\",\n          \"Suzuki\"\n        ],\n        \"semantic_type\": \"\",\n        \"description\": \"\"\n      }\n    },\n    {\n      \"column\": \"grade\",\n      \"properties\": {\n        \"dtype\": \"string\",\n        \"num_unique_values\": 4,\n        \"samples\": [\n          \"Land Cruiser\",\n          \"Corolla Cross\"\n        ],\n        \"semantic_type\": \"\",\n        \"description\": \"\"\n      }\n    }\n  ]\n}"
            }
          },
          "metadata": {},
          "execution_count": 102
        }
      ]
    },
    {
      "cell_type": "code",
      "source": [
        "# Combine brand and grade\n",
        "car_details['brand_grade'] = car_details['brand'] + ' ' + car_details['grade']"
      ],
      "metadata": {
        "id": "h4ySIjP5oxHR"
      },
      "execution_count": 103,
      "outputs": []
    },
    {
      "cell_type": "code",
      "source": [
        "# After Processing\n",
        "car_details[[\"brand\", \"grade\", \"brand_grade\"]].head()"
      ],
      "metadata": {
        "colab": {
          "base_uri": "https://localhost:8080/",
          "height": 206
        },
        "id": "Pda1qpIso__0",
        "outputId": "fc6d9379-984c-4cd2-8ca5-0c17f5d015ff"
      },
      "execution_count": 104,
      "outputs": [
        {
          "output_type": "execute_result",
          "data": {
            "text/plain": [
              "    brand              grade               brand_grade\n",
              "0  Suzuki  Super Carry Truck  Suzuki Super Carry Truck\n",
              "1  Toyota       Land Cruiser       Toyota Land Cruiser\n",
              "2  Toyota             Innova             Toyota Innova\n",
              "3  Toyota      Corolla Cross      Toyota Corolla Cross\n",
              "4  Toyota             Innova             Toyota Innova"
            ],
            "text/html": [
              "\n",
              "  <div id=\"df-94f4a7b1-c8a9-4478-8a00-55ee1aea5281\" class=\"colab-df-container\">\n",
              "    <div>\n",
              "<style scoped>\n",
              "    .dataframe tbody tr th:only-of-type {\n",
              "        vertical-align: middle;\n",
              "    }\n",
              "\n",
              "    .dataframe tbody tr th {\n",
              "        vertical-align: top;\n",
              "    }\n",
              "\n",
              "    .dataframe thead th {\n",
              "        text-align: right;\n",
              "    }\n",
              "</style>\n",
              "<table border=\"1\" class=\"dataframe\">\n",
              "  <thead>\n",
              "    <tr style=\"text-align: right;\">\n",
              "      <th></th>\n",
              "      <th>brand</th>\n",
              "      <th>grade</th>\n",
              "      <th>brand_grade</th>\n",
              "    </tr>\n",
              "  </thead>\n",
              "  <tbody>\n",
              "    <tr>\n",
              "      <th>0</th>\n",
              "      <td>Suzuki</td>\n",
              "      <td>Super Carry Truck</td>\n",
              "      <td>Suzuki Super Carry Truck</td>\n",
              "    </tr>\n",
              "    <tr>\n",
              "      <th>1</th>\n",
              "      <td>Toyota</td>\n",
              "      <td>Land Cruiser</td>\n",
              "      <td>Toyota Land Cruiser</td>\n",
              "    </tr>\n",
              "    <tr>\n",
              "      <th>2</th>\n",
              "      <td>Toyota</td>\n",
              "      <td>Innova</td>\n",
              "      <td>Toyota Innova</td>\n",
              "    </tr>\n",
              "    <tr>\n",
              "      <th>3</th>\n",
              "      <td>Toyota</td>\n",
              "      <td>Corolla Cross</td>\n",
              "      <td>Toyota Corolla Cross</td>\n",
              "    </tr>\n",
              "    <tr>\n",
              "      <th>4</th>\n",
              "      <td>Toyota</td>\n",
              "      <td>Innova</td>\n",
              "      <td>Toyota Innova</td>\n",
              "    </tr>\n",
              "  </tbody>\n",
              "</table>\n",
              "</div>\n",
              "    <div class=\"colab-df-buttons\">\n",
              "\n",
              "  <div class=\"colab-df-container\">\n",
              "    <button class=\"colab-df-convert\" onclick=\"convertToInteractive('df-94f4a7b1-c8a9-4478-8a00-55ee1aea5281')\"\n",
              "            title=\"Convert this dataframe to an interactive table.\"\n",
              "            style=\"display:none;\">\n",
              "\n",
              "  <svg xmlns=\"http://www.w3.org/2000/svg\" height=\"24px\" viewBox=\"0 -960 960 960\">\n",
              "    <path d=\"M120-120v-720h720v720H120Zm60-500h600v-160H180v160Zm220 220h160v-160H400v160Zm0 220h160v-160H400v160ZM180-400h160v-160H180v160Zm440 0h160v-160H620v160ZM180-180h160v-160H180v160Zm440 0h160v-160H620v160Z\"/>\n",
              "  </svg>\n",
              "    </button>\n",
              "\n",
              "  <style>\n",
              "    .colab-df-container {\n",
              "      display:flex;\n",
              "      gap: 12px;\n",
              "    }\n",
              "\n",
              "    .colab-df-convert {\n",
              "      background-color: #E8F0FE;\n",
              "      border: none;\n",
              "      border-radius: 50%;\n",
              "      cursor: pointer;\n",
              "      display: none;\n",
              "      fill: #1967D2;\n",
              "      height: 32px;\n",
              "      padding: 0 0 0 0;\n",
              "      width: 32px;\n",
              "    }\n",
              "\n",
              "    .colab-df-convert:hover {\n",
              "      background-color: #E2EBFA;\n",
              "      box-shadow: 0px 1px 2px rgba(60, 64, 67, 0.3), 0px 1px 3px 1px rgba(60, 64, 67, 0.15);\n",
              "      fill: #174EA6;\n",
              "    }\n",
              "\n",
              "    .colab-df-buttons div {\n",
              "      margin-bottom: 4px;\n",
              "    }\n",
              "\n",
              "    [theme=dark] .colab-df-convert {\n",
              "      background-color: #3B4455;\n",
              "      fill: #D2E3FC;\n",
              "    }\n",
              "\n",
              "    [theme=dark] .colab-df-convert:hover {\n",
              "      background-color: #434B5C;\n",
              "      box-shadow: 0px 1px 3px 1px rgba(0, 0, 0, 0.15);\n",
              "      filter: drop-shadow(0px 1px 2px rgba(0, 0, 0, 0.3));\n",
              "      fill: #FFFFFF;\n",
              "    }\n",
              "  </style>\n",
              "\n",
              "    <script>\n",
              "      const buttonEl =\n",
              "        document.querySelector('#df-94f4a7b1-c8a9-4478-8a00-55ee1aea5281 button.colab-df-convert');\n",
              "      buttonEl.style.display =\n",
              "        google.colab.kernel.accessAllowed ? 'block' : 'none';\n",
              "\n",
              "      async function convertToInteractive(key) {\n",
              "        const element = document.querySelector('#df-94f4a7b1-c8a9-4478-8a00-55ee1aea5281');\n",
              "        const dataTable =\n",
              "          await google.colab.kernel.invokeFunction('convertToInteractive',\n",
              "                                                    [key], {});\n",
              "        if (!dataTable) return;\n",
              "\n",
              "        const docLinkHtml = 'Like what you see? Visit the ' +\n",
              "          '<a target=\"_blank\" href=https://colab.research.google.com/notebooks/data_table.ipynb>data table notebook</a>'\n",
              "          + ' to learn more about interactive tables.';\n",
              "        element.innerHTML = '';\n",
              "        dataTable['output_type'] = 'display_data';\n",
              "        await google.colab.output.renderOutput(dataTable, element);\n",
              "        const docLink = document.createElement('div');\n",
              "        docLink.innerHTML = docLinkHtml;\n",
              "        element.appendChild(docLink);\n",
              "      }\n",
              "    </script>\n",
              "  </div>\n",
              "\n",
              "\n",
              "<div id=\"df-a1ccaa82-4f27-4dca-becd-8f04e8c38cd1\">\n",
              "  <button class=\"colab-df-quickchart\" onclick=\"quickchart('df-a1ccaa82-4f27-4dca-becd-8f04e8c38cd1')\"\n",
              "            title=\"Suggest charts\"\n",
              "            style=\"display:none;\">\n",
              "\n",
              "<svg xmlns=\"http://www.w3.org/2000/svg\" height=\"24px\"viewBox=\"0 0 24 24\"\n",
              "     width=\"24px\">\n",
              "    <g>\n",
              "        <path d=\"M19 3H5c-1.1 0-2 .9-2 2v14c0 1.1.9 2 2 2h14c1.1 0 2-.9 2-2V5c0-1.1-.9-2-2-2zM9 17H7v-7h2v7zm4 0h-2V7h2v10zm4 0h-2v-4h2v4z\"/>\n",
              "    </g>\n",
              "</svg>\n",
              "  </button>\n",
              "\n",
              "<style>\n",
              "  .colab-df-quickchart {\n",
              "      --bg-color: #E8F0FE;\n",
              "      --fill-color: #1967D2;\n",
              "      --hover-bg-color: #E2EBFA;\n",
              "      --hover-fill-color: #174EA6;\n",
              "      --disabled-fill-color: #AAA;\n",
              "      --disabled-bg-color: #DDD;\n",
              "  }\n",
              "\n",
              "  [theme=dark] .colab-df-quickchart {\n",
              "      --bg-color: #3B4455;\n",
              "      --fill-color: #D2E3FC;\n",
              "      --hover-bg-color: #434B5C;\n",
              "      --hover-fill-color: #FFFFFF;\n",
              "      --disabled-bg-color: #3B4455;\n",
              "      --disabled-fill-color: #666;\n",
              "  }\n",
              "\n",
              "  .colab-df-quickchart {\n",
              "    background-color: var(--bg-color);\n",
              "    border: none;\n",
              "    border-radius: 50%;\n",
              "    cursor: pointer;\n",
              "    display: none;\n",
              "    fill: var(--fill-color);\n",
              "    height: 32px;\n",
              "    padding: 0;\n",
              "    width: 32px;\n",
              "  }\n",
              "\n",
              "  .colab-df-quickchart:hover {\n",
              "    background-color: var(--hover-bg-color);\n",
              "    box-shadow: 0 1px 2px rgba(60, 64, 67, 0.3), 0 1px 3px 1px rgba(60, 64, 67, 0.15);\n",
              "    fill: var(--button-hover-fill-color);\n",
              "  }\n",
              "\n",
              "  .colab-df-quickchart-complete:disabled,\n",
              "  .colab-df-quickchart-complete:disabled:hover {\n",
              "    background-color: var(--disabled-bg-color);\n",
              "    fill: var(--disabled-fill-color);\n",
              "    box-shadow: none;\n",
              "  }\n",
              "\n",
              "  .colab-df-spinner {\n",
              "    border: 2px solid var(--fill-color);\n",
              "    border-color: transparent;\n",
              "    border-bottom-color: var(--fill-color);\n",
              "    animation:\n",
              "      spin 1s steps(1) infinite;\n",
              "  }\n",
              "\n",
              "  @keyframes spin {\n",
              "    0% {\n",
              "      border-color: transparent;\n",
              "      border-bottom-color: var(--fill-color);\n",
              "      border-left-color: var(--fill-color);\n",
              "    }\n",
              "    20% {\n",
              "      border-color: transparent;\n",
              "      border-left-color: var(--fill-color);\n",
              "      border-top-color: var(--fill-color);\n",
              "    }\n",
              "    30% {\n",
              "      border-color: transparent;\n",
              "      border-left-color: var(--fill-color);\n",
              "      border-top-color: var(--fill-color);\n",
              "      border-right-color: var(--fill-color);\n",
              "    }\n",
              "    40% {\n",
              "      border-color: transparent;\n",
              "      border-right-color: var(--fill-color);\n",
              "      border-top-color: var(--fill-color);\n",
              "    }\n",
              "    60% {\n",
              "      border-color: transparent;\n",
              "      border-right-color: var(--fill-color);\n",
              "    }\n",
              "    80% {\n",
              "      border-color: transparent;\n",
              "      border-right-color: var(--fill-color);\n",
              "      border-bottom-color: var(--fill-color);\n",
              "    }\n",
              "    90% {\n",
              "      border-color: transparent;\n",
              "      border-bottom-color: var(--fill-color);\n",
              "    }\n",
              "  }\n",
              "</style>\n",
              "\n",
              "  <script>\n",
              "    async function quickchart(key) {\n",
              "      const quickchartButtonEl =\n",
              "        document.querySelector('#' + key + ' button');\n",
              "      quickchartButtonEl.disabled = true;  // To prevent multiple clicks.\n",
              "      quickchartButtonEl.classList.add('colab-df-spinner');\n",
              "      try {\n",
              "        const charts = await google.colab.kernel.invokeFunction(\n",
              "            'suggestCharts', [key], {});\n",
              "      } catch (error) {\n",
              "        console.error('Error during call to suggestCharts:', error);\n",
              "      }\n",
              "      quickchartButtonEl.classList.remove('colab-df-spinner');\n",
              "      quickchartButtonEl.classList.add('colab-df-quickchart-complete');\n",
              "    }\n",
              "    (() => {\n",
              "      let quickchartButtonEl =\n",
              "        document.querySelector('#df-a1ccaa82-4f27-4dca-becd-8f04e8c38cd1 button');\n",
              "      quickchartButtonEl.style.display =\n",
              "        google.colab.kernel.accessAllowed ? 'block' : 'none';\n",
              "    })();\n",
              "  </script>\n",
              "</div>\n",
              "\n",
              "    </div>\n",
              "  </div>\n"
            ],
            "application/vnd.google.colaboratory.intrinsic+json": {
              "type": "dataframe",
              "summary": "{\n  \"name\": \"car_details[[\\\"brand\\\", \\\"grade\\\", \\\"brand_grade\\\"]]\",\n  \"rows\": 5,\n  \"fields\": [\n    {\n      \"column\": \"brand\",\n      \"properties\": {\n        \"dtype\": \"category\",\n        \"num_unique_values\": 2,\n        \"samples\": [\n          \"Toyota\",\n          \"Suzuki\"\n        ],\n        \"semantic_type\": \"\",\n        \"description\": \"\"\n      }\n    },\n    {\n      \"column\": \"grade\",\n      \"properties\": {\n        \"dtype\": \"string\",\n        \"num_unique_values\": 4,\n        \"samples\": [\n          \"Land Cruiser\",\n          \"Corolla Cross\"\n        ],\n        \"semantic_type\": \"\",\n        \"description\": \"\"\n      }\n    },\n    {\n      \"column\": \"brand_grade\",\n      \"properties\": {\n        \"dtype\": \"string\",\n        \"num_unique_values\": 4,\n        \"samples\": [\n          \"Toyota Land Cruiser\",\n          \"Toyota Corolla Cross\"\n        ],\n        \"semantic_type\": \"\",\n        \"description\": \"\"\n      }\n    }\n  ]\n}"
            }
          },
          "metadata": {},
          "execution_count": 104
        }
      ]
    },
    {
      "cell_type": "markdown",
      "source": [
        "### Get number of doors"
      ],
      "metadata": {
        "id": "-heB6KBgpGL5"
      }
    },
    {
      "cell_type": "code",
      "source": [
        "# Before Processing\n",
        "car_details[\"num_of_doors\"].head()"
      ],
      "metadata": {
        "colab": {
          "base_uri": "https://localhost:8080/"
        },
        "id": "aEYbYpiFpLkS",
        "outputId": "1eb41b5a-e99f-4fb3-b404-91c4be43140c"
      },
      "execution_count": 105,
      "outputs": [
        {
          "output_type": "execute_result",
          "data": {
            "text/plain": [
              "0    2-door\n",
              "1    5-door\n",
              "2    5-door\n",
              "3    5-door\n",
              "4    5-door\n",
              "Name: num_of_doors, dtype: object"
            ]
          },
          "metadata": {},
          "execution_count": 105
        }
      ]
    },
    {
      "cell_type": "code",
      "source": [
        "# Define a function to get number of doors\n",
        "def get_num_of_doors(num_of_doors):\n",
        "    result = int(str(num_of_doors).split('-')[0])\n",
        "    return result\n",
        "\n",
        "# Get number of doors\n",
        "car_details['num_of_doors'] = car_details['num_of_doors'].apply(get_num_of_doors)\n",
        "\n",
        "# Remove abnormal data (number of door normally is not greater than 6)\n",
        "item0 = car_details.shape[0] # Stores the initial number of rows in the DataFrame\n",
        "car_details = car_details[car_details['num_of_doors']<=7.0] # Remove abnormal data form the Dataframe\n",
        "item1 = car_details.shape[0] # Stores the number of rows after removing abnormal data\n",
        "print(f\"There are {item0-item1} abnormal data of num_of_doors found in the dataset\")  # Prints the number of abnormal data that were removed"
      ],
      "metadata": {
        "colab": {
          "base_uri": "https://localhost:8080/"
        },
        "id": "Rd6BVfaepU58",
        "outputId": "188fbb4b-13af-4546-ad66-26106c3e6df9"
      },
      "execution_count": 106,
      "outputs": [
        {
          "output_type": "stream",
          "name": "stdout",
          "text": [
            "There are 8 abnormal data of num_of_doors found in the dataset\n"
          ]
        }
      ]
    },
    {
      "cell_type": "code",
      "source": [
        "car_details[\"num_of_doors\"].head()"
      ],
      "metadata": {
        "colab": {
          "base_uri": "https://localhost:8080/"
        },
        "id": "TPwWH83Hpl-j",
        "outputId": "5e0588ec-e7db-4b95-84ff-1c693f44aeba"
      },
      "execution_count": 107,
      "outputs": [
        {
          "output_type": "execute_result",
          "data": {
            "text/plain": [
              "0    2\n",
              "1    5\n",
              "2    5\n",
              "3    5\n",
              "4    5\n",
              "Name: num_of_doors, dtype: int64"
            ]
          },
          "metadata": {},
          "execution_count": 107
        }
      ]
    },
    {
      "cell_type": "markdown",
      "source": [
        "### Get seating capacity"
      ],
      "metadata": {
        "id": "F4SJCmbmsPfy"
      }
    },
    {
      "cell_type": "code",
      "source": [
        "# Before Processing\n",
        "car_details[\"seating_capacity\"].head()"
      ],
      "metadata": {
        "colab": {
          "base_uri": "https://localhost:8080/"
        },
        "id": "lqusXp2esVCa",
        "outputId": "e8f49ce1-70f8-44d7-ce20-4533f60e0db4"
      },
      "execution_count": 108,
      "outputs": [
        {
          "output_type": "execute_result",
          "data": {
            "text/plain": [
              "0    2-seat\n",
              "1    7-seat\n",
              "2    8-seat\n",
              "3    5-seat\n",
              "4    8-seat\n",
              "Name: seating_capacity, dtype: object"
            ]
          },
          "metadata": {},
          "execution_count": 108
        }
      ]
    },
    {
      "cell_type": "code",
      "source": [
        "# Define a function to get seating_capacity\n",
        "def get_seating_capacity(seating_capacity):\n",
        "    result = int(str(seating_capacity).split('-')[0])\n",
        "    return result\n",
        "\n",
        "# Get seating_capacity\n",
        "car_details['seating_capacity'] = car_details['seating_capacity'].apply(get_seating_capacity) # Get seating_capacity\n",
        "\n",
        "# Remove abnormal data (number of door can not lower than 0)\n",
        "item0 = car_details.shape[0]  # Stores the initial number of rows in the DataFrame\n",
        "car_details = car_details[car_details['seating_capacity']>0].reset_index() # Remove abnormal data form the Dataframe\n",
        "item1 = car_details.shape[0]  # Stores the number of rows after removing abnormal data\n",
        "print(f\"There are {item0-item1} abnormal data of seating_capacity found in the dataset\")  # Prints the number of abnormal data that were removed"
      ],
      "metadata": {
        "colab": {
          "base_uri": "https://localhost:8080/"
        },
        "id": "RC362HefsaVr",
        "outputId": "9ef3ad74-5ff0-4708-e203-34d08698d9be"
      },
      "execution_count": 109,
      "outputs": [
        {
          "output_type": "stream",
          "name": "stdout",
          "text": [
            "There are 55 abnormal data of seating_capacity found in the dataset\n"
          ]
        }
      ]
    },
    {
      "cell_type": "code",
      "source": [
        "# After Processing\n",
        "car_details[\"seating_capacity\"].head()"
      ],
      "metadata": {
        "colab": {
          "base_uri": "https://localhost:8080/"
        },
        "id": "u4qml0ZBs1EL",
        "outputId": "b3675f1d-cd70-40a5-f2d9-43582b7bb052"
      },
      "execution_count": 110,
      "outputs": [
        {
          "output_type": "execute_result",
          "data": {
            "text/plain": [
              "0    2\n",
              "1    7\n",
              "2    8\n",
              "3    5\n",
              "4    8\n",
              "Name: seating_capacity, dtype: int64"
            ]
          },
          "metadata": {},
          "execution_count": 110
        }
      ]
    },
    {
      "cell_type": "markdown",
      "source": [
        "### Get seller address"
      ],
      "metadata": {
        "id": "Qd00W3I1tGQs"
      }
    },
    {
      "cell_type": "code",
      "source": [
        "# Load sellers dataset\n",
        "sellers = pd.read_csv(\"seller.csv\")\n",
        "\n",
        "# Rename Columns\n",
        "sellers.rename(columns = {\"Mã tin\": 'ad_id',\n",
        "                          \"Địa chỉ\": \"seller_address\"}, inplace=True)\n",
        "\n",
        "# Select only specific columns of interest\n",
        "sellers = sellers[['ad_id', 'seller_address']]\n",
        "\n",
        "# Get city name from address\n",
        "def get_city_name(address):\n",
        "  # Remove duplicate space in string\n",
        "  pattern = ' +' # More than 1 space continuously\n",
        "  address = re.sub(pattern, ' ', address)\n",
        "  # Check if 2-3 last word are city name\n",
        "  if ' '.join(address.strip(' ').split(' ')[-2:]) == 'Thiên Huế':\n",
        "    return ' '.join(address.strip(' ').split(' ')[-3:])\n",
        "  else:\n",
        "    return ' '.join(address.strip(' ').split(' ')[-2:])\n",
        "\n",
        "sellers['seller_address'] = sellers['seller_address'].apply(get_city_name)\n",
        "\n",
        "# Merge car_details with sellers\n",
        "car_details = pd.merge(car_details, sellers, on=\"ad_id\", how=\"left\")"
      ],
      "metadata": {
        "id": "c0o8kGu8tFrr"
      },
      "execution_count": 111,
      "outputs": []
    },
    {
      "cell_type": "code",
      "source": [
        "# After Processing\n",
        "car_details[\"seller_address\"].head()"
      ],
      "metadata": {
        "colab": {
          "base_uri": "https://localhost:8080/"
        },
        "id": "ZD4bGNaWeUZC",
        "outputId": "67cf1cf6-a371-40f5-ad7b-b0b705a51439"
      },
      "execution_count": 112,
      "outputs": [
        {
          "output_type": "execute_result",
          "data": {
            "text/plain": [
              "0    Hà Nội\n",
              "1    Hà Nội\n",
              "2    TP HCM\n",
              "3    TP HCM\n",
              "4    Hà Nội\n",
              "Name: seller_address, dtype: object"
            ]
          },
          "metadata": {},
          "execution_count": 112
        }
      ]
    },
    {
      "cell_type": "markdown",
      "source": [
        "## Export Result to CSV file"
      ],
      "metadata": {
        "id": "8IPlEL_Q3Eqy"
      }
    },
    {
      "cell_type": "code",
      "source": [
        "# Select only specific columns of interest\n",
        "selected_cols = ['price', 'log10_price', 'origin', 'condition', 'car_model', 'mileage',\n",
        "                 'log10_mileage','exterior_color', 'interior_color', 'num_of_doors',\n",
        "                 'seating_capacity','fuel_type', 'engine_size', 'transmission','drive_type',\n",
        "                 'fuel_consumption', 'brand_grade', 'year_of_manufacture', 'seller_address']\n",
        "car_details = car_details[selected_cols]\n",
        "\n",
        "# Export Report to csv\n",
        "car_details.to_csv(\"car_details_processed.csv\",index=False)"
      ],
      "metadata": {
        "id": "u2d_Pemn3Dwx"
      },
      "execution_count": 113,
      "outputs": []
    }
  ]
}